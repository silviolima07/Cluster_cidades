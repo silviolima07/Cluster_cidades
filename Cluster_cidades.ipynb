{
  "nbformat": 4,
  "nbformat_minor": 0,
  "metadata": {
    "colab": {
      "provenance": [],
      "include_colab_link": true
    },
    "kernelspec": {
      "name": "python3",
      "display_name": "Python 3"
    },
    "language_info": {
      "name": "python"
    }
  },
  "cells": [
    {
      "cell_type": "markdown",
      "metadata": {
        "id": "view-in-github",
        "colab_type": "text"
      },
      "source": [
        "<a href=\"https://colab.research.google.com/github/silviolima07/Cluster_cidades/blob/main/Cluster_cidades.ipynb\" target=\"_parent\"><img src=\"https://colab.research.google.com/assets/colab-badge.svg\" alt=\"Open In Colab\"/></a>"
      ]
    },
    {
      "cell_type": "markdown",
      "source": [
        "#***IDENTIFICAR GRUPOS DE CIDADES PARA RECEBER UMA INDUSTRIA DE BEBIDAS***\n",
        "# Uma estrategia usada foi usar apenas as colunas mais relevantes dentro do contexto do problema.\n",
        "# Foram identificados no dataset, grupos de cidades com renda per capita semelhante e grupos de cidades com distancia ate a capital, semelhantes.\n",
        "# Dessa forma foram identificados grupos de cidades que apresentam a mesma faixa de renda e mesma faixa de distancia ate a capital.\n",
        "# Outra estrategia adotada foi remover as colunas categoricas e aplicar o algoritmo Kmeans para identificar grupos de cidades no dataset.\n",
        "# Foram identificados 3 grupos de cidades em cada uma das estrategias.\n",
        "# O cluster de renda foi caracterizados pelo valor medio. Assim, podemos identificar a renda media das cidades de cada grupo.\n",
        "# O mesmo procedimento foi feito para o cluster de distancia ate a capital."
      ],
      "metadata": {
        "id": "_a02p3kV4nvO"
      }
    },
    {
      "cell_type": "markdown",
      "source": [
        "# Tarefas:\n",
        "- Classifique os municípios brasileiros com base nas informações disponíveis (utilize um algoritmo de  cluster, se julgar necessário). Caracterize os grupos de municípios criado da melhor maneira possível. \n",
        "\n",
        "- Quais grupos de municípios deveriam ser a porta de entrada para empresa no país? Por quê?\n",
        "\n",
        "- Cálculo da probabilidade de um determinado município pertencer a um dos grupos \n"
      ],
      "metadata": {
        "id": "ZY_fvQS2MwHx"
      }
    },
    {
      "cell_type": "code",
      "execution_count": 1,
      "metadata": {
        "id": "xs-oUHBQqMFf"
      },
      "outputs": [],
      "source": [
        "\n",
        "import numpy as np\n",
        "import pandas as pd\n",
        "import seaborn as sns\n",
        "import matplotlib.pyplot as plt\n",
        "\n",
        "#\n",
        "import warnings\n",
        "warnings.filterwarnings(\"ignore\")\n",
        "\n",
        "from sklearn import preprocessing, cluster\n",
        "import yellowbrick\n",
        "from sklearn.cluster import KMeans\n",
        "from yellowbrick.cluster import KElbowVisualizer\n",
        "\n",
        "from sklearn.model_selection import train_test_split\n",
        "from sklearn.model_selection import cross_val_score\n",
        "from sklearn.metrics import accuracy_score\n",
        "from xgboost import XGBClassifier\n",
        "\n",
        "from sklearn.preprocessing import MinMaxScaler\n",
        "\n",
        "from sklearn import preprocessing, metrics\n",
        "\n",
        "%matplotlib inline\n"
      ]
    },
    {
      "cell_type": "code",
      "source": [
        "def hist_plot(df,var,bins=20):\n",
        "  return df.hist(column = var, figsize=(7,6), bins=bins);"
      ],
      "metadata": {
        "id": "Ih0C7eLrqfSk"
      },
      "execution_count": 2,
      "outputs": []
    },
    {
      "cell_type": "code",
      "source": [
        "def order_cluster(cluster_field_name, target_field_name,df,ascending):\n",
        "    new_cluster_field_name = 'new_' + cluster_field_name\n",
        "    df_new = df.groupby(cluster_field_name)[target_field_name].mean().reset_index()\n",
        "    df_new = df_new.sort_values(by=target_field_name,ascending=ascending).reset_index(drop=True)\n",
        "    df_new['index'] = df_new.index\n",
        "    df_final = pd.merge(df,df_new[[cluster_field_name,'index']], on=cluster_field_name)\n",
        "    df_final = df_final.drop([cluster_field_name],axis=1)\n",
        "    df_final = df_final.rename(columns={\"index\":cluster_field_name})\n",
        "    return df_final"
      ],
      "metadata": {
        "id": "rz3oj5P_mmed"
      },
      "execution_count": 3,
      "outputs": []
    },
    {
      "cell_type": "code",
      "source": [
        "def number_of_cluster(coluna):\n",
        "  sse={}\n",
        "  df_cluster = df[[coluna]]\n",
        "  for k in range(1, 10):\n",
        "    kmeans = KMeans(n_clusters=k, max_iter=1000).fit(df_cluster)\n",
        "    df_cluster[\"clusters\"] = kmeans.labels_\n",
        "    sse[k] = kmeans.inertia_\n",
        "    \n",
        "  plt.figure(figsize=(10, 5))\n",
        "  plt.plot(list(sse.keys()), list(sse.values()))\n",
        "  plt.title(\"Number of Cluster by Column\\n\"+coluna)\n",
        "  plt.xlabel(\"Number of cluster\")\n",
        "  plt.show()"
      ],
      "metadata": {
        "id": "19yOPMhNjvMq"
      },
      "execution_count": 4,
      "outputs": []
    },
    {
      "cell_type": "code",
      "source": [
        "def create_cluster(df,coluna, nova_coluna):\n",
        "  #building 3 clusters for Frequency and adding it to dataframe\n",
        "  kmeans = KMeans(n_clusters=3)\n",
        "  kmeans.fit(df[[coluna]])\n",
        "  df[nova_coluna] = kmeans.predict(df[[coluna]])\n",
        "  df = order_cluster(nova_coluna, coluna,df,False)"
      ],
      "metadata": {
        "id": "GUJ6rorkjxkQ"
      },
      "execution_count": 5,
      "outputs": []
    },
    {
      "cell_type": "code",
      "source": [
        "def xgb_model (X_treino, y_treino, cv=10):\n",
        "  cv_scores = cross_val_score(xgb, X_treino, y_treino, cv=cv, scoring='accuracy')\n",
        "  print(\"Média dos\", cv, \"testes:\", np.round(cv_scores.mean(),4)) "
      ],
      "metadata": {
        "id": "DJhfMVsgfSRr"
      },
      "execution_count": 6,
      "outputs": []
    },
    {
      "cell_type": "code",
      "source": [
        "df = pd.read_csv('/content/drive/MyDrive/base_municipio.csv', encoding='latin-1')"
      ],
      "metadata": {
        "id": "QwFLAt2rqQyJ",
        "outputId": "6f116782-1185-4c96-e1a0-24822cd01a3d",
        "colab": {
          "base_uri": "https://localhost:8080/",
          "height": 342
        }
      },
      "execution_count": 7,
      "outputs": [
        {
          "output_type": "error",
          "ename": "FileNotFoundError",
          "evalue": "ignored",
          "traceback": [
            "\u001b[0;31m---------------------------------------------------------------------------\u001b[0m",
            "\u001b[0;31mFileNotFoundError\u001b[0m                         Traceback (most recent call last)",
            "\u001b[0;32m<ipython-input-7-4be386d40c2f>\u001b[0m in \u001b[0;36m<module>\u001b[0;34m\u001b[0m\n\u001b[0;32m----> 1\u001b[0;31m \u001b[0mdf\u001b[0m \u001b[0;34m=\u001b[0m \u001b[0mpd\u001b[0m\u001b[0;34m.\u001b[0m\u001b[0mread_csv\u001b[0m\u001b[0;34m(\u001b[0m\u001b[0;34m'/content/drive/MyDrive/base_municipio.csv'\u001b[0m\u001b[0;34m,\u001b[0m \u001b[0mencoding\u001b[0m\u001b[0;34m=\u001b[0m\u001b[0;34m'latin-1'\u001b[0m\u001b[0;34m)\u001b[0m\u001b[0;34m\u001b[0m\u001b[0;34m\u001b[0m\u001b[0m\n\u001b[0m",
            "\u001b[0;32m/usr/local/lib/python3.9/dist-packages/pandas/util/_decorators.py\u001b[0m in \u001b[0;36mwrapper\u001b[0;34m(*args, **kwargs)\u001b[0m\n\u001b[1;32m    309\u001b[0m                     \u001b[0mstacklevel\u001b[0m\u001b[0;34m=\u001b[0m\u001b[0mstacklevel\u001b[0m\u001b[0;34m,\u001b[0m\u001b[0;34m\u001b[0m\u001b[0;34m\u001b[0m\u001b[0m\n\u001b[1;32m    310\u001b[0m                 )\n\u001b[0;32m--> 311\u001b[0;31m             \u001b[0;32mreturn\u001b[0m \u001b[0mfunc\u001b[0m\u001b[0;34m(\u001b[0m\u001b[0;34m*\u001b[0m\u001b[0margs\u001b[0m\u001b[0;34m,\u001b[0m \u001b[0;34m**\u001b[0m\u001b[0mkwargs\u001b[0m\u001b[0;34m)\u001b[0m\u001b[0;34m\u001b[0m\u001b[0;34m\u001b[0m\u001b[0m\n\u001b[0m\u001b[1;32m    312\u001b[0m \u001b[0;34m\u001b[0m\u001b[0m\n\u001b[1;32m    313\u001b[0m         \u001b[0;32mreturn\u001b[0m \u001b[0mwrapper\u001b[0m\u001b[0;34m\u001b[0m\u001b[0;34m\u001b[0m\u001b[0m\n",
            "\u001b[0;32m/usr/local/lib/python3.9/dist-packages/pandas/io/parsers/readers.py\u001b[0m in \u001b[0;36mread_csv\u001b[0;34m(filepath_or_buffer, sep, delimiter, header, names, index_col, usecols, squeeze, prefix, mangle_dupe_cols, dtype, engine, converters, true_values, false_values, skipinitialspace, skiprows, skipfooter, nrows, na_values, keep_default_na, na_filter, verbose, skip_blank_lines, parse_dates, infer_datetime_format, keep_date_col, date_parser, dayfirst, cache_dates, iterator, chunksize, compression, thousands, decimal, lineterminator, quotechar, quoting, doublequote, escapechar, comment, encoding, encoding_errors, dialect, error_bad_lines, warn_bad_lines, on_bad_lines, delim_whitespace, low_memory, memory_map, float_precision, storage_options)\u001b[0m\n\u001b[1;32m    676\u001b[0m     \u001b[0mkwds\u001b[0m\u001b[0;34m.\u001b[0m\u001b[0mupdate\u001b[0m\u001b[0;34m(\u001b[0m\u001b[0mkwds_defaults\u001b[0m\u001b[0;34m)\u001b[0m\u001b[0;34m\u001b[0m\u001b[0;34m\u001b[0m\u001b[0m\n\u001b[1;32m    677\u001b[0m \u001b[0;34m\u001b[0m\u001b[0m\n\u001b[0;32m--> 678\u001b[0;31m     \u001b[0;32mreturn\u001b[0m \u001b[0m_read\u001b[0m\u001b[0;34m(\u001b[0m\u001b[0mfilepath_or_buffer\u001b[0m\u001b[0;34m,\u001b[0m \u001b[0mkwds\u001b[0m\u001b[0;34m)\u001b[0m\u001b[0;34m\u001b[0m\u001b[0;34m\u001b[0m\u001b[0m\n\u001b[0m\u001b[1;32m    679\u001b[0m \u001b[0;34m\u001b[0m\u001b[0m\n\u001b[1;32m    680\u001b[0m \u001b[0;34m\u001b[0m\u001b[0m\n",
            "\u001b[0;32m/usr/local/lib/python3.9/dist-packages/pandas/io/parsers/readers.py\u001b[0m in \u001b[0;36m_read\u001b[0;34m(filepath_or_buffer, kwds)\u001b[0m\n\u001b[1;32m    573\u001b[0m \u001b[0;34m\u001b[0m\u001b[0m\n\u001b[1;32m    574\u001b[0m     \u001b[0;31m# Create the parser.\u001b[0m\u001b[0;34m\u001b[0m\u001b[0;34m\u001b[0m\u001b[0m\n\u001b[0;32m--> 575\u001b[0;31m     \u001b[0mparser\u001b[0m \u001b[0;34m=\u001b[0m \u001b[0mTextFileReader\u001b[0m\u001b[0;34m(\u001b[0m\u001b[0mfilepath_or_buffer\u001b[0m\u001b[0;34m,\u001b[0m \u001b[0;34m**\u001b[0m\u001b[0mkwds\u001b[0m\u001b[0;34m)\u001b[0m\u001b[0;34m\u001b[0m\u001b[0;34m\u001b[0m\u001b[0m\n\u001b[0m\u001b[1;32m    576\u001b[0m \u001b[0;34m\u001b[0m\u001b[0m\n\u001b[1;32m    577\u001b[0m     \u001b[0;32mif\u001b[0m \u001b[0mchunksize\u001b[0m \u001b[0;32mor\u001b[0m \u001b[0miterator\u001b[0m\u001b[0;34m:\u001b[0m\u001b[0;34m\u001b[0m\u001b[0;34m\u001b[0m\u001b[0m\n",
            "\u001b[0;32m/usr/local/lib/python3.9/dist-packages/pandas/io/parsers/readers.py\u001b[0m in \u001b[0;36m__init__\u001b[0;34m(self, f, engine, **kwds)\u001b[0m\n\u001b[1;32m    930\u001b[0m \u001b[0;34m\u001b[0m\u001b[0m\n\u001b[1;32m    931\u001b[0m         \u001b[0mself\u001b[0m\u001b[0;34m.\u001b[0m\u001b[0mhandles\u001b[0m\u001b[0;34m:\u001b[0m \u001b[0mIOHandles\u001b[0m \u001b[0;34m|\u001b[0m \u001b[0;32mNone\u001b[0m \u001b[0;34m=\u001b[0m \u001b[0;32mNone\u001b[0m\u001b[0;34m\u001b[0m\u001b[0;34m\u001b[0m\u001b[0m\n\u001b[0;32m--> 932\u001b[0;31m         \u001b[0mself\u001b[0m\u001b[0;34m.\u001b[0m\u001b[0m_engine\u001b[0m \u001b[0;34m=\u001b[0m \u001b[0mself\u001b[0m\u001b[0;34m.\u001b[0m\u001b[0m_make_engine\u001b[0m\u001b[0;34m(\u001b[0m\u001b[0mf\u001b[0m\u001b[0;34m,\u001b[0m \u001b[0mself\u001b[0m\u001b[0;34m.\u001b[0m\u001b[0mengine\u001b[0m\u001b[0;34m)\u001b[0m\u001b[0;34m\u001b[0m\u001b[0;34m\u001b[0m\u001b[0m\n\u001b[0m\u001b[1;32m    933\u001b[0m \u001b[0;34m\u001b[0m\u001b[0m\n\u001b[1;32m    934\u001b[0m     \u001b[0;32mdef\u001b[0m \u001b[0mclose\u001b[0m\u001b[0;34m(\u001b[0m\u001b[0mself\u001b[0m\u001b[0;34m)\u001b[0m\u001b[0;34m:\u001b[0m\u001b[0;34m\u001b[0m\u001b[0;34m\u001b[0m\u001b[0m\n",
            "\u001b[0;32m/usr/local/lib/python3.9/dist-packages/pandas/io/parsers/readers.py\u001b[0m in \u001b[0;36m_make_engine\u001b[0;34m(self, f, engine)\u001b[0m\n\u001b[1;32m   1214\u001b[0m             \u001b[0;31m# \"Union[str, PathLike[str], ReadCsvBuffer[bytes], ReadCsvBuffer[str]]\"\u001b[0m\u001b[0;34m\u001b[0m\u001b[0;34m\u001b[0m\u001b[0m\n\u001b[1;32m   1215\u001b[0m             \u001b[0;31m# , \"str\", \"bool\", \"Any\", \"Any\", \"Any\", \"Any\", \"Any\"\u001b[0m\u001b[0;34m\u001b[0m\u001b[0;34m\u001b[0m\u001b[0m\n\u001b[0;32m-> 1216\u001b[0;31m             self.handles = get_handle(  # type: ignore[call-overload]\n\u001b[0m\u001b[1;32m   1217\u001b[0m                 \u001b[0mf\u001b[0m\u001b[0;34m,\u001b[0m\u001b[0;34m\u001b[0m\u001b[0;34m\u001b[0m\u001b[0m\n\u001b[1;32m   1218\u001b[0m                 \u001b[0mmode\u001b[0m\u001b[0;34m,\u001b[0m\u001b[0;34m\u001b[0m\u001b[0;34m\u001b[0m\u001b[0m\n",
            "\u001b[0;32m/usr/local/lib/python3.9/dist-packages/pandas/io/common.py\u001b[0m in \u001b[0;36mget_handle\u001b[0;34m(path_or_buf, mode, encoding, compression, memory_map, is_text, errors, storage_options)\u001b[0m\n\u001b[1;32m    784\u001b[0m         \u001b[0;32mif\u001b[0m \u001b[0mioargs\u001b[0m\u001b[0;34m.\u001b[0m\u001b[0mencoding\u001b[0m \u001b[0;32mand\u001b[0m \u001b[0;34m\"b\"\u001b[0m \u001b[0;32mnot\u001b[0m \u001b[0;32min\u001b[0m \u001b[0mioargs\u001b[0m\u001b[0;34m.\u001b[0m\u001b[0mmode\u001b[0m\u001b[0;34m:\u001b[0m\u001b[0;34m\u001b[0m\u001b[0;34m\u001b[0m\u001b[0m\n\u001b[1;32m    785\u001b[0m             \u001b[0;31m# Encoding\u001b[0m\u001b[0;34m\u001b[0m\u001b[0;34m\u001b[0m\u001b[0m\n\u001b[0;32m--> 786\u001b[0;31m             handle = open(\n\u001b[0m\u001b[1;32m    787\u001b[0m                 \u001b[0mhandle\u001b[0m\u001b[0;34m,\u001b[0m\u001b[0;34m\u001b[0m\u001b[0;34m\u001b[0m\u001b[0m\n\u001b[1;32m    788\u001b[0m                 \u001b[0mioargs\u001b[0m\u001b[0;34m.\u001b[0m\u001b[0mmode\u001b[0m\u001b[0;34m,\u001b[0m\u001b[0;34m\u001b[0m\u001b[0;34m\u001b[0m\u001b[0m\n",
            "\u001b[0;31mFileNotFoundError\u001b[0m: [Errno 2] No such file or directory: '/content/drive/MyDrive/base_municipio.csv'"
          ]
        }
      ]
    },
    {
      "cell_type": "code",
      "source": [
        "df"
      ],
      "metadata": {
        "id": "hqtRMOTnrnUa"
      },
      "execution_count": null,
      "outputs": []
    },
    {
      "cell_type": "code",
      "source": [
        "df.columns"
      ],
      "metadata": {
        "id": "b9zqHQSvr8sX"
      },
      "execution_count": null,
      "outputs": []
    },
    {
      "cell_type": "code",
      "source": [
        "df.isnull().sum()"
      ],
      "metadata": {
        "id": "0S2cgQUmu001"
      },
      "execution_count": null,
      "outputs": []
    },
    {
      "cell_type": "code",
      "source": [
        "df.info()"
      ],
      "metadata": {
        "id": "cVMCJXJVvD5j"
      },
      "execution_count": null,
      "outputs": []
    },
    {
      "cell_type": "markdown",
      "source": [
        "## Manter apenas os dados referentes ao ano 2000"
      ],
      "metadata": {
        "id": "EVMqpFETwD-3"
      }
    },
    {
      "cell_type": "code",
      "source": [
        "ano_1991 = [\n",
        "       'População de 25 anos ou mais de idade, 1991',\n",
        "       'População de 65 anos ou mais de idade, 1991',\n",
        "       'População total, 1991']"
      ],
      "metadata": {
        "id": "Kgu9sgkQwKWO"
      },
      "execution_count": null,
      "outputs": []
    },
    {
      "cell_type": "code",
      "source": [
        "df.drop(columns=ano_1991, inplace=True)"
      ],
      "metadata": {
        "id": "toc9bLw6wCeA"
      },
      "execution_count": null,
      "outputs": []
    },
    {
      "cell_type": "code",
      "source": [
        "df.drop(columns=['Código'], inplace=True)"
      ],
      "metadata": {
        "id": "FSn6uHtfz12v"
      },
      "execution_count": null,
      "outputs": []
    },
    {
      "cell_type": "code",
      "source": [
        "df"
      ],
      "metadata": {
        "id": "6fX3pXTNxAs2"
      },
      "execution_count": null,
      "outputs": []
    },
    {
      "cell_type": "code",
      "source": [
        "df.Município = df.Município.str.strip()"
      ],
      "metadata": {
        "id": "9j9c0m15dN7K"
      },
      "execution_count": null,
      "outputs": []
    },
    {
      "cell_type": "markdown",
      "source": [
        "## Distribuição da renda per capita pelas cidades"
      ],
      "metadata": {
        "id": "e5yd73Uv6xO5"
      }
    },
    {
      "cell_type": "code",
      "source": [
        "sns.set(palette='muted', color_codes=True, style='white')\n",
        "fig, ax = plt.subplots(figsize=(12, 6))\n",
        "sns.despine(left=True)\n",
        "sns.distplot(df['Renda per Capita, 2000'], bins=30)\n",
        "plt.show();"
      ],
      "metadata": {
        "id": "4yc-cnsl0RBw"
      },
      "execution_count": null,
      "outputs": []
    },
    {
      "cell_type": "markdown",
      "source": [
        "# Distribuição da distância da cidade até a capital.\n",
        "\n",
        "---\n",
        "\n"
      ],
      "metadata": {
        "id": "vF3aa2atVY6O"
      }
    },
    {
      "cell_type": "code",
      "source": [
        "sns.set(palette='muted', color_codes=True, style='white')\n",
        "fig, ax = plt.subplots(figsize=(12, 6))\n",
        "sns.despine(left=True)\n",
        "sns.distplot(df['Distância à capital (km)'], bins=30)\n",
        "plt.show();"
      ],
      "metadata": {
        "id": "tKZBUBBB0YZ9"
      },
      "execution_count": null,
      "outputs": []
    },
    {
      "cell_type": "markdown",
      "source": [
        "## Quantidade de clusters para Renda per Capita"
      ],
      "metadata": {
        "id": "MPbgmrcSiDRV"
      }
    },
    {
      "cell_type": "code",
      "source": [
        "model = KMeans()\n",
        "visualizer = KElbowVisualizer(model, k=(1,12))\n",
        "X = df['Renda per Capita, 2000'].values.reshape(-1,1)\n",
        "\n",
        "visualizer.fit(X)    # Fit the data to the visualizer\n",
        "visualizer.poof() ;   # Draw/show/poof the data"
      ],
      "metadata": {
        "id": "N_hovsAbfowV"
      },
      "execution_count": null,
      "outputs": []
    },
    {
      "cell_type": "code",
      "source": [
        "create_cluster(df,'Renda per Capita, 2000', 'Cluster_Renda' )"
      ],
      "metadata": {
        "id": "BnALFTiFl-VP"
      },
      "execution_count": null,
      "outputs": []
    },
    {
      "cell_type": "code",
      "source": [
        "df[['Renda per Capita, 2000', 'Cluster_Renda']]\n"
      ],
      "metadata": {
        "id": "s1yFyZUYnKM1"
      },
      "execution_count": null,
      "outputs": []
    },
    {
      "cell_type": "markdown",
      "source": [
        "## Quantidade de clusters para Distancia a capital"
      ],
      "metadata": {
        "id": "G0mcj66PiOuc"
      }
    },
    {
      "cell_type": "code",
      "source": [
        "model = KMeans()\n",
        "visualizer = KElbowVisualizer(model, k=(1,12))\n",
        "X = df['Distância à capital (km)'].values.reshape(-1,1)\n",
        "\n",
        "visualizer.fit(X)    # Fit the data to the visualizer\n",
        "visualizer.poof();    # Draw/show/poof the data"
      ],
      "metadata": {
        "id": "_EritAi0g9z1"
      },
      "execution_count": null,
      "outputs": []
    },
    {
      "cell_type": "code",
      "source": [
        "create_cluster(df,'Distância à capital (km)', 'Cluster_Distancia' )"
      ],
      "metadata": {
        "id": "UpiLy-OPntq1"
      },
      "execution_count": null,
      "outputs": []
    },
    {
      "cell_type": "code",
      "source": [
        "df[['Distância à capital (km)', 'Cluster_Distancia']]"
      ],
      "metadata": {
        "id": "cPkYdTZZoKR8"
      },
      "execution_count": null,
      "outputs": []
    },
    {
      "cell_type": "markdown",
      "source": [
        "## Totais de cidades em cada grupo"
      ],
      "metadata": {
        "id": "MqQeBUTsk4so"
      }
    },
    {
      "cell_type": "code",
      "source": [
        "df.Cluster_Renda.value_counts()"
      ],
      "metadata": {
        "id": "QXu59zJ3raHO"
      },
      "execution_count": null,
      "outputs": []
    },
    {
      "cell_type": "code",
      "source": [
        "df.Cluster_Distancia.value_counts()"
      ],
      "metadata": {
        "id": "vt009-KcrRj_"
      },
      "execution_count": null,
      "outputs": []
    },
    {
      "cell_type": "code",
      "source": [
        "df_all_cols = df"
      ],
      "metadata": {
        "id": "wY8HfA7fwyDg"
      },
      "execution_count": null,
      "outputs": []
    },
    {
      "cell_type": "code",
      "source": [
        "df_all_cols[['Município', 'Cluster_Renda', 'Cluster_Distancia']]\n"
      ],
      "metadata": {
        "id": "Uabi37z5wcZ-"
      },
      "execution_count": null,
      "outputs": []
    },
    {
      "cell_type": "markdown",
      "source": [
        "#Aplicando kmeans a todas variaveis numericas"
      ],
      "metadata": {
        "id": "-oorr7PVDA6p"
      }
    },
    {
      "cell_type": "code",
      "source": [
        "df = pd.read_csv('/content/drive/MyDrive/base_municipio.csv', encoding='latin-1')"
      ],
      "metadata": {
        "id": "pBoqtHe8uioc"
      },
      "execution_count": null,
      "outputs": []
    },
    {
      "cell_type": "code",
      "source": [
        "df.drop(columns=['Código'], inplace=True)"
      ],
      "metadata": {
        "id": "e4gZK0H-LlSd"
      },
      "execution_count": null,
      "outputs": []
    },
    {
      "cell_type": "code",
      "source": [
        "df2 = df.copy()"
      ],
      "metadata": {
        "id": "V7BrIsyZ0WWN"
      },
      "execution_count": null,
      "outputs": []
    },
    {
      "cell_type": "markdown",
      "source": [
        "## Manter apenas as variaveis numericas"
      ],
      "metadata": {
        "id": "fWSddbyNmKXd"
      }
    },
    {
      "cell_type": "code",
      "source": [
        "df2.drop(['Município', 'UF'], axis=1, inplace=True)"
      ],
      "metadata": {
        "id": "BhB6tmMD3ErI"
      },
      "execution_count": null,
      "outputs": []
    },
    {
      "cell_type": "code",
      "source": [
        "df2.head()"
      ],
      "metadata": {
        "id": "q_AHgiMf2Zyn"
      },
      "execution_count": null,
      "outputs": []
    },
    {
      "cell_type": "code",
      "source": [
        "X = df2"
      ],
      "metadata": {
        "id": "pIIk3v7AxNeG"
      },
      "execution_count": null,
      "outputs": []
    },
    {
      "cell_type": "code",
      "source": [
        "X.head()"
      ],
      "metadata": {
        "id": "nfGIDhJk34tp"
      },
      "execution_count": null,
      "outputs": []
    },
    {
      "cell_type": "code",
      "source": [
        "cols = X.columns"
      ],
      "metadata": {
        "id": "drQCXN6J3_CE"
      },
      "execution_count": null,
      "outputs": []
    },
    {
      "cell_type": "markdown",
      "source": [
        "## Normalizando as escala de valores"
      ],
      "metadata": {
        "id": "i7WSbd4VmXZb"
      }
    },
    {
      "cell_type": "code",
      "source": [
        "ms = MinMaxScaler()\n",
        "\n",
        "X = ms.fit_transform(X)"
      ],
      "metadata": {
        "id": "44kIpTqe4Czo"
      },
      "execution_count": null,
      "outputs": []
    },
    {
      "cell_type": "code",
      "source": [
        "X = pd.DataFrame(X, columns=[cols])"
      ],
      "metadata": {
        "id": "TSrVl-Tu4JOQ"
      },
      "execution_count": null,
      "outputs": []
    },
    {
      "cell_type": "code",
      "source": [
        "X.head()"
      ],
      "metadata": {
        "id": "S_ANMKrT4MLO"
      },
      "execution_count": null,
      "outputs": []
    },
    {
      "cell_type": "markdown",
      "source": [
        "## Utilizando metodos da lib Yellowbrick para identificar o numero de cluster"
      ],
      "metadata": {
        "id": "jKGYyVMnnSW-"
      }
    },
    {
      "cell_type": "code",
      "source": [
        "model = KMeans()\n",
        "visualizer = KElbowVisualizer(model, k=(1,12))\n",
        "X = X\n",
        "\n",
        "visualizer.fit(X)    # Fit the data to the visualizer\n",
        "visualizer.poof();    # Draw/show/poof the data"
      ],
      "metadata": {
        "id": "ivnsU12Q6H0r"
      },
      "execution_count": null,
      "outputs": []
    },
    {
      "cell_type": "markdown",
      "source": [
        "## Criar o total de clusters informado no passo anterior"
      ],
      "metadata": {
        "id": "0EwL3UgQokXu"
      }
    },
    {
      "cell_type": "code",
      "source": [
        "kmeans = KMeans(n_clusters=3, random_state=0) \n",
        "\n",
        "kmeans.fit(X)"
      ],
      "metadata": {
        "id": "8AVOhnhTiPlI"
      },
      "execution_count": null,
      "outputs": []
    },
    {
      "cell_type": "code",
      "source": [
        "df2['3_clusters'] = kmeans.labels_"
      ],
      "metadata": {
        "id": "0aQb8mOoiTbA"
      },
      "execution_count": null,
      "outputs": []
    },
    {
      "cell_type": "code",
      "source": [
        "df2['3_clusters']"
      ],
      "metadata": {
        "id": "tQuI2uc9jmQI"
      },
      "execution_count": null,
      "outputs": []
    },
    {
      "cell_type": "code",
      "source": [
        "df2.columns"
      ],
      "metadata": {
        "id": "SC3NHg_Cn23r"
      },
      "execution_count": null,
      "outputs": []
    },
    {
      "cell_type": "code",
      "source": [
        "temp2 = df2['3_clusters']"
      ],
      "metadata": {
        "id": "QkU2bipol_m8"
      },
      "execution_count": null,
      "outputs": []
    },
    {
      "cell_type": "code",
      "source": [
        "df3 = pd.concat([df_all_cols,temp2], axis=1)\n",
        "df3"
      ],
      "metadata": {
        "id": "Fc38QTkQrbf-"
      },
      "execution_count": null,
      "outputs": []
    },
    {
      "cell_type": "code",
      "source": [
        "df3['3_clusters'].value_counts()"
      ],
      "metadata": {
        "id": "TFLQIh1xscBO"
      },
      "execution_count": null,
      "outputs": []
    },
    {
      "cell_type": "code",
      "source": [
        "df4 = df3[['Município', 'UF', 'Renda per Capita, 2000', 'Distância à capital (km)', 'Cluster_Renda', 'Cluster_Distancia', '3_clusters']]"
      ],
      "metadata": {
        "id": "zTwvbRLeuw45"
      },
      "execution_count": null,
      "outputs": []
    },
    {
      "cell_type": "code",
      "source": [
        "\n",
        "df4"
      ],
      "metadata": {
        "id": "Pp086kj44ZgH"
      },
      "execution_count": null,
      "outputs": []
    },
    {
      "cell_type": "markdown",
      "source": [
        "# Classifique os municípios brasileiros com base nas informações disponíveis (utilize um algoritmo de cluster, se julgar necessário). \n",
        "# Caracterize os grupos de municípios criado da melhor maneira possível."
      ],
      "metadata": {
        "id": "Rq8W-1P0RnK7"
      }
    },
    {
      "cell_type": "markdown",
      "source": [
        "## ***Foram usados os cluster criados a partir da Renda per capita e da Distancia ate a capital.***"
      ],
      "metadata": {
        "id": "1MXnCsFZUYyQ"
      }
    },
    {
      "cell_type": "markdown",
      "source": [
        "## ***Renda media das cidades no grupo***\n",
        "\n"
      ],
      "metadata": {
        "id": "nRnSny9YLeRZ"
      }
    },
    {
      "cell_type": "code",
      "source": [
        "renda_g2 = df4.loc[df4['Cluster_Renda']==2]['Renda per Capita, 2000']\n",
        "renda_g1 = df4.loc[df4['Cluster_Renda']==1]['Renda per Capita, 2000']\n",
        "renda_g0 = df4.loc[df4['Cluster_Renda']==0]['Renda per Capita, 2000']\n",
        "#\n",
        "print('Renda media grupo 0: R$',round(renda_g0.mean(),2))\n",
        "renda_g00 = 'Renda media de R$'+ str(round(renda_g0.mean(),2))\n",
        "print('Renda media grupo 1: R$',round(renda_g1.mean(),2))\n",
        "renda_g11 = 'Renda media de R$'+ str(round(renda_g1.mean(),2))\n",
        "print('Renda media grupo 2: R$',round(renda_g2.mean(),2))\n",
        "renda_g22 = 'Renda media de R$'+ str(round(renda_g2.mean(),2))\n",
        "#\n",
        "# Labels\n",
        "\n",
        "renda = np.where(df4['Cluster_Renda'] == 0, renda_g00,\n",
        "          np.where(df4['Cluster_Renda'] == 1, renda_g11,\n",
        "                     np.where(df4[\"Cluster_Renda\"] == 2, renda_g22, renda_g00)))"
      ],
      "metadata": {
        "id": "xsGle3OZ4cVi"
      },
      "execution_count": null,
      "outputs": []
    },
    {
      "cell_type": "code",
      "source": [
        "temp2 = renda_g2.mean()\n",
        "temp1 = renda_g1.mean()\n",
        "temp0 = renda_g0.mean()"
      ],
      "metadata": {
        "id": "MD7N8R5IBRCc"
      },
      "execution_count": null,
      "outputs": []
    },
    {
      "cell_type": "code",
      "source": [
        "if (temp2 > temp1) & (temp2 > temp0):\n",
        "  max_renda_media = 2\n",
        "elif (temp1 > temp2) & (temp1 > temp0):\n",
        "  max_renda_media = 1\n",
        "elif (temp0 > temp1) & (temp0 > temp2):\n",
        "  max_renda_media = 0    "
      ],
      "metadata": {
        "id": "KOLqGNrf4kgG"
      },
      "execution_count": null,
      "outputs": []
    },
    {
      "cell_type": "code",
      "source": [],
      "metadata": {
        "id": "YmZb_n6EEm_8"
      },
      "execution_count": null,
      "outputs": []
    },
    {
      "cell_type": "code",
      "source": [
        "df4['Label_Renda'] = renda"
      ],
      "metadata": {
        "id": "uPzk_E5rD0c_"
      },
      "execution_count": null,
      "outputs": []
    },
    {
      "cell_type": "code",
      "source": [
        "df4[['Cluster_Renda', 'Label_Renda']]"
      ],
      "metadata": {
        "id": "2ehtMO7eD5xx"
      },
      "execution_count": null,
      "outputs": []
    },
    {
      "cell_type": "markdown",
      "source": [
        "## ***Distancia media ate a capital***"
      ],
      "metadata": {
        "id": "9yX2i4B3L8f8"
      }
    },
    {
      "cell_type": "code",
      "source": [
        "distancia_g2 = df4.loc[df4['Cluster_Distancia']==2]['Distância à capital (km)']\n",
        "distancia_g1 = df4.loc[df4['Cluster_Distancia']==1]['Distância à capital (km)']\n",
        "distancia_g0 = df4.loc[df4['Cluster_Distancia']==0]['Distância à capital (km)']\n",
        "#\n",
        "print('Distância media grupo 0: km',round(distancia_g0.mean(),2))\n",
        "distancia_g00 = 'Distancia media de '+ str(round(distancia_g0.mean(),2))+' km'\n",
        "print('Distancia media grupo 1: km',round(distancia_g1.mean(),2))\n",
        "distancia_g11 = 'Distancia media de '+ str(round(distancia_g1.mean(),2))+' km'\n",
        "print('Distancia media grupo 2: km',round(distancia_g2.mean(),2))\n",
        "distancia_g22 = 'Distancia media de '+ str(round(distancia_g2.mean(),2))+' km'\n",
        "#\n",
        "# Labels\n",
        "\n",
        "distancia = np.where(df4['Cluster_Distancia'] == 0, distancia_g00,\n",
        "          np.where(df4['Cluster_Distancia'] == 1, distancia_g11,\n",
        "                     np.where(df4[\"Cluster_Distancia\"] == 2, distancia_g22, distancia_g00)))"
      ],
      "metadata": {
        "id": "FhjWkBklE907"
      },
      "execution_count": null,
      "outputs": []
    },
    {
      "cell_type": "code",
      "source": [
        "temp2 = distancia_g2.mean()\n",
        "temp1 = distancia_g1.mean()\n",
        "temp0 = distancia_g0.mean()"
      ],
      "metadata": {
        "id": "dO0gpM2DEtNl"
      },
      "execution_count": null,
      "outputs": []
    },
    {
      "cell_type": "code",
      "source": [
        "if (temp2 < temp1) & (temp2 < temp0):\n",
        "  min_distancia_media = 2\n",
        "elif (temp1 < temp2) & (temp1 < temp0):\n",
        "  min_distancia_media = 1\n",
        "elif (temp0 < temp1) & (temp0 < temp2):\n",
        "  min_distancia_media = 0    "
      ],
      "metadata": {
        "id": "0VGZqgBlFEzy"
      },
      "execution_count": null,
      "outputs": []
    },
    {
      "cell_type": "code",
      "source": [
        "min_distancia_media"
      ],
      "metadata": {
        "id": "qpXOx0jrFZZC"
      },
      "execution_count": null,
      "outputs": []
    },
    {
      "cell_type": "code",
      "source": [
        "df4['Label_Distancia'] = distancia"
      ],
      "metadata": {
        "id": "QfNsfkVKHJzU"
      },
      "execution_count": null,
      "outputs": []
    },
    {
      "cell_type": "code",
      "source": [
        "df4[['Cluster_Distancia', 'Label_Distancia']]"
      ],
      "metadata": {
        "id": "9fAxaiWtHPHZ"
      },
      "execution_count": null,
      "outputs": []
    },
    {
      "cell_type": "code",
      "source": [
        "df4.columns"
      ],
      "metadata": {
        "id": "oWcIthqlHcxp"
      },
      "execution_count": null,
      "outputs": []
    },
    {
      "cell_type": "markdown",
      "source": [
        "## Cidades caracterizadas pela renda media e distancia ate a capital"
      ],
      "metadata": {
        "id": "v6seaB2fUJmj"
      }
    },
    {
      "cell_type": "code",
      "source": [
        "df4[['Município', 'UF',\n",
        "       'Cluster_Renda', 'Label_Renda','Cluster_Distancia', \n",
        "       'Label_Distancia', '3_clusters']]"
      ],
      "metadata": {
        "id": "hBdUuYORHlZg"
      },
      "execution_count": null,
      "outputs": []
    },
    {
      "cell_type": "markdown",
      "source": [
        "### Quais grupos de municípios deveriam ser a porta de entrada para empresa no país? \n",
        "### Por quê?"
      ],
      "metadata": {
        "id": "BzCtGTZHVIBe"
      }
    },
    {
      "cell_type": "markdown",
      "source": [
        "# Estrategia:\n",
        "#Identificar as cidades com maior renda media e menor distancia ate a capital"
      ],
      "metadata": {
        "id": "DkHTC5eQW33H"
      }
    },
    {
      "cell_type": "code",
      "source": [
        "df4"
      ],
      "metadata": {
        "id": "pEJMVzSIAdwK"
      },
      "execution_count": null,
      "outputs": []
    },
    {
      "cell_type": "code",
      "source": [
        "df4.loc[(df4['Cluster_Renda']== max_renda_media) & (df4['Cluster_Distancia']== min_distancia_media)][['Município', 'UF',\n",
        "       'Cluster_Renda', 'Label_Renda','Cluster_Distancia', \n",
        "       'Label_Distancia', '3_clusters']]"
      ],
      "metadata": {
        "id": "ys1-GHa4Vbi9"
      },
      "execution_count": null,
      "outputs": []
    },
    {
      "cell_type": "markdown",
      "source": [
        "# A analise feita acima, selecionou as cidades com maior renda media e menor distancia media ate a capital. Baseando-se apenas em renda e distancia, essas cidades seriam as apontadas como porta de entrada.\n",
        "# Maior poder aquisitivo impacta no consumo e por consequencia na produção.\n",
        "# Menor distancia com a capital, pode significar menor custo para distribuição em grandes centros."
      ],
      "metadata": {
        "id": "bDyV0rX9XYf6"
      }
    },
    {
      "cell_type": "markdown",
      "source": [],
      "metadata": {
        "id": "e8OnHwYfPVzZ"
      }
    },
    {
      "cell_type": "markdown",
      "source": [
        "# "
      ],
      "metadata": {
        "id": "3UbYWnpTVN2H"
      }
    },
    {
      "cell_type": "markdown",
      "source": [
        "### Qual a probabilidade de um determinado município pertencer a um dos grupos?"
      ],
      "metadata": {
        "id": "qju8W6E2Zto9"
      }
    },
    {
      "cell_type": "code",
      "source": [
        "df2"
      ],
      "metadata": {
        "id": "qUjWkKx2S0w4"
      },
      "execution_count": null,
      "outputs": []
    },
    {
      "cell_type": "code",
      "source": [
        "df2['3_clusters'].value_counts()"
      ],
      "metadata": {
        "id": "d1l6ymf_aA_W"
      },
      "execution_count": null,
      "outputs": []
    },
    {
      "cell_type": "code",
      "source": [
        "plt.figure(figsize=(16,8))\n",
        "\n",
        "plt.subplot(233)\n",
        "sns.countplot(y='3_clusters',data=df2)\n",
        "plt.gca().xaxis.tick_bottom()\n",
        "plt.title('Total de cidades por cluster');"
      ],
      "metadata": {
        "id": "EN-uQnB4l6Nx"
      },
      "execution_count": null,
      "outputs": []
    },
    {
      "cell_type": "markdown",
      "source": [
        "####  A probabilidade de um municipio pertencer a um dos grupos encontrados é a quantidade de cidades no grupo dividido pela quantidade total de cidades."
      ],
      "metadata": {
        "id": "yqdnrCG8PGYc"
      }
    },
    {
      "cell_type": "code",
      "source": [
        "prob_grupo1 = (2348 / 5507)*100"
      ],
      "metadata": {
        "id": "QGHouNhHPE6l"
      },
      "execution_count": null,
      "outputs": []
    },
    {
      "cell_type": "code",
      "source": [
        "from google.colab import drive\n",
        "drive.mount('/content/drive')"
      ],
      "metadata": {
        "id": "Ap_s3cQpQ4_3"
      },
      "execution_count": null,
      "outputs": []
    }
  ]
}